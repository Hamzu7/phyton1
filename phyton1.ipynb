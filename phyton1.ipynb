{
 "cells": [
  {
   "cell_type": "code",
   "execution_count": null,
   "id": "6debe9fe",
   "metadata": {},
   "outputs": [],
   "source": [
    "# NAME = MUHAMMAD HAMZA AZAM\n",
    "# PHYTON COURSE STUDENT (SIR FAISAL AM)\n",
    "#\n",
    "\n",
    "# QUESTION 01\n",
    "\n",
    "name = input(\"Enter your name: \")\n",
    "salary = float(input(\"Enter your salary: \"))\n",
    "years_of_service = int(input(\"Enter your years of service: \"))\n",
    "if years_of_service > 5:\n",
    "    bonus_percentage = 5\n",
    "    bonus_amount = (bonus_percentage / 100) * salary\n",
    "    net_bonus_amount = bonus_amount\n",
    "    print(f\"You are eligible for a {bonus_percentage}% bonus.\")\n",
    "    print(f\"Net bonus amount: Rs{net_bonus_amount:.2f}\")\n",
    "else:\n",
    "    print(\"Sorry, you are not eligible for a bonus.\")"
   ]
  },
  {
   "cell_type": "code",
   "execution_count": 7,
   "id": "aaed126f",
   "metadata": {},
   "outputs": [
    {
     "name": "stdout",
     "output_type": "stream",
     "text": [
      "Enter your name: hazma\n",
      "Enter your age: 12\n",
      "you are not eligible for voting.\n"
     ]
    }
   ],
   "source": [
    "# QUESTION 02\n",
    " \n",
    "name = input(\"Enter your name: \")\n",
    "age = int(input(\"Enter your age: \"))\n",
    "\n",
    "if age > 17:\n",
    "    print(\"You are eligible for voting.\")\n",
    "else:\n",
    "    print(\"you are not eligible for voting.\")\n",
    "    "
   ]
  },
  {
   "cell_type": "code",
   "execution_count": null,
   "id": "4948ed36",
   "metadata": {},
   "outputs": [],
   "source": [
    "#QUESTION 03\n",
    "\n",
    "number = int(input(\"Enter a number: \"))\n",
    "if number % 2:\n",
    "    print(\"odd\")\n",
    "else: \n",
    "    print(\"even\")"
   ]
  },
  {
   "cell_type": "code",
   "execution_count": 14,
   "id": "3118a42e",
   "metadata": {},
   "outputs": [
    {
     "name": "stdout",
     "output_type": "stream",
     "text": [
      "Enter a Number: 3\n",
      "False\n"
     ]
    }
   ],
   "source": [
    "# QUESTION 04\n",
    "\n",
    "\n",
    "user_input = int(input(\"Enter a Number: \"))\n",
    "\n",
    "if user_input % 7 == 0:\n",
    "    print(True)\n",
    "else:\n",
    "    print(False)\n",
    "\n"
   ]
  },
  {
   "cell_type": "code",
   "execution_count": null,
   "id": "134a56b4",
   "metadata": {},
   "outputs": [],
   "source": [
    "#QUESTION 05\n",
    "\n",
    "user_input = int(input(\"Enter a Number: \"))\n",
    "\n",
    "if int(user_input) % 5 == 0 :\n",
    "    print(\"Hello\")\n",
    "else:\n",
    "    print(\"Bye\")\n",
    "\n",
    "\n"
   ]
  },
  {
   "cell_type": "code",
   "execution_count": 38,
   "id": "2c3f9456",
   "metadata": {},
   "outputs": [
    {
     "name": "stdout",
     "output_type": "stream",
     "text": [
      "Enter your unit: 199\n",
      "your bill is Rs 995\n"
     ]
    }
   ],
   "source": [
    "#QUESTION 06\n",
    "\n",
    "unit = int(input(\"Enter your unit: \"))\n",
    "unit == total_bill\n",
    "\n",
    "\n",
    "if unit <= 100:\n",
    "    print(f\"your bill is Rs {0}\")\n",
    "elif unit <= 200:\n",
    "    total_bill = unit* 5\n",
    "    print(f\"your bill is Rs {total_bill}\")\n",
    "elif unit > 200:\n",
    "     total_bill = unit* 10\n",
    "     print(f\"your bill is Rs{total_bill}\")\n",
    "else:\n",
    "    print(\"error\")"
   ]
  },
  {
   "cell_type": "code",
   "execution_count": 2,
   "id": "8f587180",
   "metadata": {},
   "outputs": [
    {
     "name": "stdout",
     "output_type": "stream",
     "text": [
      "Enter a number5\n",
      "The last digit of 5 is: 5\n"
     ]
    }
   ],
   "source": [
    "# QUESTION 07\n",
    "user_input = int(input(\"Enter a number: \"))\n",
    "last_digit = user_input % 10\n",
    "print(f\"The last digit of {user_input} is: {last_digit}\")"
   ]
  },
  {
   "cell_type": "code",
   "execution_count": 5,
   "id": "3a6d0b48",
   "metadata": {},
   "outputs": [
    {
     "name": "stdout",
     "output_type": "stream",
     "text": [
      "Enter a number: 54\n",
      "The last digit of 54 is: 4\n",
      "True\n"
     ]
    }
   ],
   "source": [
    "# QUESTION 08\n",
    "\n",
    "user_input = int(input(\"Enter a number: \"))\n",
    "last_digit = user_input % 10\n",
    "print(f\"The last digit of {user_input} is: {last_digit}\")\n",
    "\n",
    "if int(user_input) % 3 == 0:\n",
    "    print(\"True\")\n",
    "else:\n",
    "    print(\"False\")"
   ]
  },
  {
   "cell_type": "code",
   "execution_count": 9,
   "id": "7f7e58b0",
   "metadata": {},
   "outputs": [
    {
     "name": "stdout",
     "output_type": "stream",
     "text": [
      "Enter a lenght: 23\n",
      "Enter a breadth: 10\n",
      "It is a rectangle\n"
     ]
    }
   ],
   "source": [
    "# QUESTION 09\n",
    "\n",
    "user_input = float(input(\"Enter a lenght: \"))\n",
    "user_input1 = float(input(\"Enter a breadth: \"))\n",
    "if user_input == user_input1:\n",
    "    print(\"It is a square\")\n",
    "else:\n",
    "    print(\"It is a rectangle\")"
   ]
  },
  {
   "cell_type": "code",
   "execution_count": 25,
   "id": "5819bd80",
   "metadata": {},
   "outputs": [
    {
     "name": "stdout",
     "output_type": "stream",
     "text": [
      "Enter a first number: 10\n",
      "Enter a second number: 6\n",
      "The greatest amoung 10 and 6 is: (True, False).\n"
     ]
    }
   ],
   "source": [
    "# QUESTION 10\n",
    "\n",
    "user_input = int(input(\"Enter a first number: \"))\n",
    "user_input1 = int(input(\"Enter a second number: \"))\n",
    "                  \n",
    "result = (user_input > user_input1) , (user_input < user_input1)\n",
    "print(f\"The greatest amoung {user_input} and {user_input1} is: {result}.\")"
   ]
  },
  {
   "cell_type": "code",
   "execution_count": 15,
   "id": "593dbf68",
   "metadata": {},
   "outputs": [
    {
     "name": "stdout",
     "output_type": "stream",
     "text": [
      "Enter a quantity: 21\n",
      "Enter the unit price: 2100\n",
      "your total bill is:  1890.00\n"
     ]
    }
   ],
   "source": [
    "# QUESTION 11\n",
    " \n",
    "quantity = input(\"Enter a quantity: \")\n",
    "unit_price = float(input(\"Enter the unit price: \"))\n",
    "total_cost = unit_price\n",
    "\n",
    "if (total_cost > 1000):\n",
    "    discount = 0.10 * total_cost\n",
    "    discount = total_cost - discount  \n",
    "    print(f\"your total bill is: {discount: .2f}\")\n",
    "else:\n",
    "    print(f\"No Discount Applied. Total Cost: {total_cost}\")\n"
   ]
  },
  {
   "cell_type": "code",
   "execution_count": null,
   "id": "889df429",
   "metadata": {},
   "outputs": [],
   "source": [
    "# QUESTION 12\n",
    "\n",
    "obtained_marks = int(input(\"Enter obtained marks: \"))\n",
    "total_marks = int(input(\"Enter total marks: \"))\n",
    "percentage = int(obtained_marks * 100 / total_marks)\n",
    "\n",
    "if percentage > 80 :\n",
    "    grade = \"A\"\n",
    "elif percentage > 60 and 80:\n",
    "    grade = \"B\"\n",
    "elif percentage > 50 and 60:\n",
    "    grade = \"C\"\n",
    "elif percentage > 45 and 50:\n",
    "    grade = \"D\"\n",
    "elif percentage > 25 and 45:\n",
    "    grade = \"E\"\n",
    "elif percentage < 25:\n",
    "    grade = \"F\"\n",
    "else:\n",
    "    grade = \"Below B\"\n",
    "\n",
    "print(\"Percentage:\", percentage, \"%\")\n",
    "print(\"Grade:\", grade)\n"
   ]
  },
  {
   "cell_type": "code",
   "execution_count": null,
   "id": "5a8b3332",
   "metadata": {},
   "outputs": [],
   "source": [
    "# QUESTION 13\n",
    "\n",
    "age1 = int(input(\"Enter the age of person 1: \"))\n",
    "age2 = int(input(\"Enter the age of person 2: \"))\n",
    "age3 = int(input(\"Enter the age of person 3: \"))\n",
    "\n",
    "if age1 > age2:\n",
    "    print(\"The oldest person is {age1} years old, the youngest person is {age2} years old\")\n",
    "elif age2 > age3:\n",
    "    print(\"The oldest person is {age2} years old, the youngest person is {age3} years old\")\n",
    "elif age3 > age1:\n",
    "    print(\"The oldest person is {age3} years old, the youngest person is {age1} years old\")\n",
    "elif age2 > age1:\n",
    "    print(\"The oldest person is {age2} years old, the youngest person is {age1} years old\")\n",
    "elif age3 > age2:\n",
    "    print(\"The oldest person is {age3} years old, the youngest person is {age2} years old\")\n",
    "else:\n",
    "    print(\"The oldest person is {} years old, and the youngest person is {} years old.\")"
   ]
  },
  {
   "cell_type": "code",
   "execution_count": 19,
   "id": "4eed093b",
   "metadata": {},
   "outputs": [
    {
     "name": "stdout",
     "output_type": "stream",
     "text": [
      "Enter the number of classes attended: 25\n",
      "Enter the number of classes held: 10\n",
      "The student is allowed to sit in the exam.\n"
     ]
    }
   ],
   "source": [
    "# QUESTION 14\n",
    "\n",
    "classes_attended = int(input(\"Enter the number of classes attended: \"))\n",
    "classes_held = int(input(\"Enter the number of classes held: \"))\n",
    "attendence_percentage = (classes_attended / classes_held) * 100 \n",
    "\n",
    "if attendence_percentage>= 75:\n",
    "    print(\"The student is allowed to sit in the exam.\")\n",
    "else:\n",
    "    print(\"The student is not allowed to sit in the exam.\")\n",
    "\n",
    "\n"
   ]
  },
  {
   "cell_type": "code",
   "execution_count": 6,
   "id": "63a72e16",
   "metadata": {},
   "outputs": [
    {
     "name": "stdout",
     "output_type": "stream",
     "text": [
      "Do you have a medical cause? (Enter 'Y' for Yes, 'N' for No): Y\n",
      "You are allowed to sit due to a medical cause.\n"
     ]
    }
   ],
   "source": [
    "# QUESTION 15\n",
    "\n",
    "medical_cause = input(\"Do you have a medical cause? (Enter 'Y' for Yes, 'N' for No): \")\n",
    "\n",
    "if medical_cause.upper() == 'Y':\n",
    "    print(\"You are allowed to sit due to a medical cause.\")\n",
    "else:\n",
    "    medical_cause.upper() == 'N'\n",
    "    print(\"You are not allowed to sit due to a medical cause.\")"
   ]
  },
  {
   "cell_type": "code",
   "execution_count": null,
   "id": "542b0710",
   "metadata": {},
   "outputs": [],
   "source": [
    "# QUESTION 16\n",
    "\n",
    "year_to_check = int(input(\"Enter a year to check if it's a leap year: \"))\n",
    "\n",
    "if is_leap_year(year_to_check) % 4 == 0:\n",
    "    print(f\"{year_to_check} is a leap year.\")\n",
    "elif year_to_check% 400 == 0:\n",
    "    print(f\"{year_to_check} is a leap year.\")\n",
    "else:\n",
    "    print(f\"{year_to_check} is not a leap year.\")"
   ]
  }
 ],
 "metadata": {
  "kernelspec": {
   "display_name": "Python 3 (ipykernel)",
   "language": "python",
   "name": "python3"
  },
  "language_info": {
   "codemirror_mode": {
    "name": "ipython",
    "version": 3
   },
   "file_extension": ".py",
   "mimetype": "text/x-python",
   "name": "python",
   "nbconvert_exporter": "python",
   "pygments_lexer": "ipython3",
   "version": "3.11.5"
  }
 },
 "nbformat": 4,
 "nbformat_minor": 5
}
